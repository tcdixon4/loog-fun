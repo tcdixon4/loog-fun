{
 "cells": [
  {
   "cell_type": "code",
   "execution_count": 1,
   "metadata": {
    "collapsed": true
   },
   "outputs": [],
   "source": [
    "import numpy as np\n",
    "import pandas as pd\n",
    "import re\n",
    "import time\n",
    "from bs4 import BeautifulSoup\n",
    "from selenium import webdriver\n",
    "from selenium.webdriver.common.by import By\n",
    "from selenium.webdriver.support.ui import Select, WebDriverWait\n",
    "from selenium.webdriver.support import expected_conditions as EC"
   ]
  },
  {
   "cell_type": "code",
   "execution_count": 2,
   "metadata": {
    "collapsed": true
   },
   "outputs": [],
   "source": [
    "def espn_login(driver=None):  # Likely return to this to put it in another file\n",
    "    '''\n",
    "    If there is no active WebDriver session, open one and request ESPN login.\n",
    "    Wait until login has been registered before advancing.\n",
    "    Args:\n",
    "        driver: selenium WebDriver instance, logged in OR out of ESPN\n",
    "    Return:\n",
    "        driver: selenium WebDriver instance, logged in to ESPN\n",
    "\n",
    "    '''\n",
    "    if not driver:\n",
    "        driver = webdriver.Chrome('C:\\ChromeDriver\\chromedriver.exe')\n",
    "    driver.get('http://www.espn.com/login/')\n",
    "    logged_in = False\n",
    "    while not logged_in:\n",
    "        innerHTML = driver.execute_script(\n",
    "            \"return document.getElementsByTagName('html')[0].innerHTML\")\n",
    "        html = BeautifulSoup(innerHTML, 'html.parser')\n",
    "        logged_in = not html.find_all('title')[0].get_text()=='Log In'\n",
    "    return driver"
   ]
  },
  {
   "cell_type": "code",
   "execution_count": null,
   "metadata": {
    "collapsed": true
   },
   "outputs": [],
   "source": [
    "lineup_df = pd.DataFrame(index=list(range(10)), columns=['team',''])"
   ]
  },
  {
   "cell_type": "code",
   "execution_count": null,
   "metadata": {
    "collapsed": true
   },
   "outputs": [],
   "source": [
    "class Player:\n",
    "    def __init__(self, name, position, score):\n",
    "        self._name = name\n",
    "        self.position = position\n",
    "        self.score = score\n",
    "        \n",
    "    \n",
    "class Team:\n",
    "    def __init__(self, starters, bench):\n",
    "        self.starters = starters\n",
    "        self.bench = bench\n",
    "    \n",
    "    def compute_actual_score(self):\n",
    "        score = 0\n",
    "        for player in self.starters:\n",
    "            score += player.score\n",
    "        return score\n",
    "    \n",
    "    def compute_best_score(self):\n",
    "        \n",
    "    "
   ]
  },
  {
   "cell_type": "code",
   "execution_count": 3,
   "metadata": {
    "collapsed": false
   },
   "outputs": [
    {
     "name": "stdout",
     "output_type": "stream",
     "text": [
      "[<__main__.MyPoint object at 0x00000220D3575F28>, <__main__.MyPoint object at 0x00000220D3575EF0>]\n",
      "X     int64\n",
      "Y     int64\n",
      "O    object\n",
      "dtype: object\n",
      "   X  Y                                                O\n",
      "0  1  1  <__main__.MyPoint object at 0x00000220D3575F28>\n",
      "1  2  2  <__main__.MyPoint object at 0x00000220D3575EF0>\n"
     ]
    }
   ],
   "source": [
    "class MyPoint:\n",
    "    def __init__(self, x, y):\n",
    "        self._x = x\n",
    "        self._y = y\n",
    "\n",
    "    @property\n",
    "    def x(self):\n",
    "        return self._x\n",
    "\n",
    "    @property\n",
    "    def y(self):\n",
    "        return self._y\n",
    "\n",
    "my_list = [MyPoint(1, 1), MyPoint(2, 2)]\n",
    "print(my_list)\n",
    "\n",
    "plane_pd = pd.DataFrame([[p.x, p.y, p] for p in my_list],\n",
    "                        columns=list('XYO'))\n",
    "print(plane_pd.dtypes)\n",
    "print(plane_pd)"
   ]
  },
  {
   "cell_type": "code",
   "execution_count": 8,
   "metadata": {
    "collapsed": false
   },
   "outputs": [
    {
     "data": {
      "text/plain": [
       "1"
      ]
     },
     "execution_count": 8,
     "metadata": {},
     "output_type": "execute_result"
    }
   ],
   "source": [
    "plane_pd['O'][0].x"
   ]
  },
  {
   "cell_type": "code",
   "execution_count": null,
   "metadata": {
    "collapsed": true
   },
   "outputs": [],
   "source": [
    "def scrape_lineups(driver=None):\n",
    "    ''' \n",
    "    This function scrapes the weekly lineups of every team in the league and logs\n",
    "    them in a pandas DataFrame.\n",
    "    Args:\n",
    "        driver: selenium WebDriver instance (optional), logged in OR out of ESPN\n",
    "    Return:\n",
    "        lineups: pandas DataFrame (n x 5) containing updated list of players \n",
    "                   for upcoming draft, but incomplete keeper_val field\n",
    "    '''\n",
    "\n",
    "    driver = espn_login(driver)\n",
    "    driver.implicitly_wait(5)\n",
    "\n",
    "    ''' Initialize an empty DataFrame, navigate to the player page, and begin to\n",
    "    fill it.  Players will be added to the larger player_df DataFrame in chunks,\n",
    "    with each chunk containing all the players on a single page. \n",
    "    '''\n",
    "    player_df = pd.DataFrame(columns=['name', 'pos', 'team', 'owner', \n",
    "                                      'keeper_val'])\n",
    "    driver.get('http://games.espn.com/ffl/freeagency?leagueId=2205911&teamId='\n",
    "               '6&seasonId=2017#&seasonId=2017&avail=-1')\n",
    "    last_player_logged = []\n",
    "    while True:\n",
    "        ''' Check to see if the page has loaded by testing if the last player\n",
    "        on the page is the same as the last one logged on the previous page.\n",
    "        '''\n",
    "        waiting_to_load = True\n",
    "        while waiting_to_load:          \n",
    "            innerHTML = driver.execute_script(\n",
    "                \"return document.getElementsByTagName('html')[0].innerHTML\")\n",
    "            html = BeautifulSoup(innerHTML, 'html.parser')\n",
    "            player_table = html.find(id='playertable_0')\n",
    "            last_player_loaded = player_table.find_all('tr')[-1]\n",
    "            last_player_loaded = last_player_loaded.find_all('td')[0].get_text()\n",
    "            if last_player_logged != last_player_loaded:\n",
    "                waiting_to_load = False\n",
    "\n",
    "        ''' Fill the df_chunk DataFrame for the current page by iterating over\n",
    "        every row and parsing the player data.\n",
    "        '''\n",
    "        players_on_page = len(player_table.find_all('tr'))-2   \n",
    "        df_chunk = pd.DataFrame(\n",
    "            columns=['name', 'team', 'pos', 'owner', 'keeper_val'], \n",
    "            index=range(0,players_on_page))\n",
    "        row_marker = -1\n",
    "        for row in player_table.find_all('tr')[2:]:\n",
    "            row_marker += 1\n",
    "            last_player_logged = row.find_all('td')[0].get_text()\n",
    "            name_team_pos = re.split(', |\\xa0', last_player_logged)\n",
    "            if len(name_team_pos)==2:  # This applies only to d/st entries\n",
    "                team_name = re.split(' ', name_team_pos[0])[0]\n",
    "                name_team_pos = [name_team_pos[0], team_name, name_team_pos[1]]\n",
    "            df_chunk.iat[row_marker, 0] = name_team_pos[0]\n",
    "            df_chunk.iat[row_marker, 1] = name_team_pos[1]\n",
    "            df_chunk.iat[row_marker, 2] = name_team_pos[2]\n",
    "            df_chunk.iat[row_marker, 3] = row.find_all('td')[2].get_text()  \n",
    "        player_df = player_df.append(df_chunk)\n",
    "        ''' If another page becomes available within 3 seconds, click it to\n",
    "        advance.  Otherwise, assume the final page has been reached, complete \n",
    "        the process, and exit the while loop.\n",
    "        '''\n",
    "        try:\n",
    "            remaining_page = WebDriverWait(driver, 3).until(\n",
    "            \tEC.element_to_be_clickable((By.PARTIAL_LINK_TEXT, 'NEXT')))\n",
    "            remaining_page.click()\n",
    "        except:\n",
    "            print('scraping complete')\n",
    "            break\n",
    "\n",
    "    ''' Fix the indices on the player_df DataFrame to match the number of the\n",
    "    row, since each chunk was originally indexed separately.  Finally, return \n",
    "    the result.\n",
    "    '''\n",
    "    player_df = player_df.set_index(np.arange(len(player_df)))\n",
    "    return(player_df)"
   ]
  }
 ],
 "metadata": {
  "kernelspec": {
   "display_name": "Python 3",
   "language": "python",
   "name": "python3"
  },
  "language_info": {
   "codemirror_mode": {
    "name": "ipython",
    "version": 3
   },
   "file_extension": ".py",
   "mimetype": "text/x-python",
   "name": "python",
   "nbconvert_exporter": "python",
   "pygments_lexer": "ipython3",
   "version": "3.6.0"
  }
 },
 "nbformat": 4,
 "nbformat_minor": 2
}
